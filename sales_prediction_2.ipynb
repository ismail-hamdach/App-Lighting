{
  "cells": [
    {
      "cell_type": "markdown",
      "metadata": {
        "id": "view-in-github",
        "colab_type": "text"
      },
      "source": [
        "<a href=\"https://colab.research.google.com/github/ismail-hamdach/App-Lighting/blob/main/sales_prediction_2.ipynb\" target=\"_parent\"><img src=\"https://colab.research.google.com/assets/colab-badge.svg\" alt=\"Open In Colab\"/></a>"
      ]
    },
    {
      "cell_type": "markdown",
      "metadata": {
        "id": "mw5LED0qv2Pp"
      },
      "source": [
        "# Step 1: Import libraries"
      ]
    },
    {
      "cell_type": "code",
      "execution_count": 1,
      "metadata": {
        "id": "26zVFOqGv2QC"
      },
      "outputs": [],
      "source": [
        "import numpy as np\n",
        "import pandas as pd\n",
        "import matplotlib.pyplot as plt\n",
        "from sklearn.preprocessing import MinMaxScaler\n",
        "from tensorflow.keras.models import Sequential\n",
        "from tensorflow.keras.layers import LSTM, Dense\n"
      ]
    },
    {
      "cell_type": "markdown",
      "metadata": {
        "id": "hOlryWEgv2QP"
      },
      "source": [
        "# Step 2: Load and preprocess the data"
      ]
    },
    {
      "cell_type": "code",
      "execution_count": 2,
      "metadata": {
        "id": "AXwLoknIv2QP"
      },
      "outputs": [],
      "source": [
        "# Load the data\n",
        "data = pd.read_csv('sales.csv')  # Replace 'your_data.csv' with the actual file name\n",
        "\n",
        "# Extract the relevant column\n",
        "sales_data = data['MRTSSM448USN'].values.reshape(-1, 1)\n",
        "\n",
        "# Normalize the data\n",
        "scaler = MinMaxScaler(feature_range=(0, 1))\n",
        "sales_data_normalized = scaler.fit_transform(sales_data)"
      ]
    },
    {
      "cell_type": "markdown",
      "metadata": {
        "id": "6D9d-Spzv2QQ"
      },
      "source": [
        "# Step 3: Prepare the data for training"
      ]
    },
    {
      "cell_type": "code",
      "execution_count": 3,
      "metadata": {
        "id": "gWrNS6kGv2QR"
      },
      "outputs": [],
      "source": [
        "def create_sequences(data, seq_length):\n",
        "    sequences = []\n",
        "    target = []\n",
        "    for i in range(len(data) - seq_length):\n",
        "        seq = data[i:i+seq_length]\n",
        "        label = data[i+seq_length:i+seq_length+1]\n",
        "        sequences.append(seq)\n",
        "        target.append(label)\n",
        "    return np.array(sequences), np.array(target)\n",
        "\n",
        "# Choose the sequence length (number of time steps to consider for each prediction)\n",
        "sequence_length = 12\n",
        "\n",
        "# Create sequences and targets\n",
        "X, y = create_sequences(sales_data_normalized, sequence_length)\n",
        "\n",
        "# Split the data into training and testing sets\n",
        "split = int(0.8 * len(X))\n",
        "X_train, X_test, y_train, y_test = X[:split], X[split:], y[:split], y[split:]\n"
      ]
    },
    {
      "cell_type": "markdown",
      "metadata": {
        "id": "lB5jq4Zhv2QR"
      },
      "source": [
        "# Step 4: Build the LSTM model"
      ]
    },
    {
      "cell_type": "code",
      "execution_count": 4,
      "metadata": {
        "id": "5lBO3dZ6v2QS"
      },
      "outputs": [],
      "source": [
        "model = Sequential()\n",
        "model.add(LSTM(50, activation='relu', input_shape=(sequence_length, 1)))\n",
        "model.add(Dense(1))\n",
        "model.compile(optimizer='adam', loss='mse')"
      ]
    },
    {
      "cell_type": "markdown",
      "metadata": {
        "id": "9daxlUTNv2QT"
      },
      "source": [
        "# Step 5: Train the model"
      ]
    },
    {
      "cell_type": "code",
      "execution_count": 5,
      "metadata": {
        "colab": {
          "base_uri": "https://localhost:8080/"
        },
        "id": "GsecKcJKv2QT",
        "outputId": "b5af8afa-a1e7-490c-d92d-8e63582f184c"
      },
      "outputs": [
        {
          "output_type": "stream",
          "name": "stdout",
          "text": [
            "Epoch 1/50\n",
            "10/10 [==============================] - 3s 46ms/step - loss: 0.0760 - val_loss: 0.1069\n",
            "Epoch 2/50\n",
            "10/10 [==============================] - 0s 11ms/step - loss: 0.0288 - val_loss: 0.0311\n",
            "Epoch 3/50\n",
            "10/10 [==============================] - 0s 12ms/step - loss: 0.0119 - val_loss: 0.0225\n",
            "Epoch 4/50\n",
            "10/10 [==============================] - 0s 12ms/step - loss: 0.0119 - val_loss: 0.0262\n",
            "Epoch 5/50\n",
            "10/10 [==============================] - 0s 12ms/step - loss: 0.0111 - val_loss: 0.0240\n",
            "Epoch 6/50\n",
            "10/10 [==============================] - 0s 11ms/step - loss: 0.0107 - val_loss: 0.0227\n",
            "Epoch 7/50\n",
            "10/10 [==============================] - 0s 11ms/step - loss: 0.0106 - val_loss: 0.0230\n",
            "Epoch 8/50\n",
            "10/10 [==============================] - 0s 11ms/step - loss: 0.0106 - val_loss: 0.0233\n",
            "Epoch 9/50\n",
            "10/10 [==============================] - 0s 16ms/step - loss: 0.0106 - val_loss: 0.0219\n",
            "Epoch 10/50\n",
            "10/10 [==============================] - 0s 16ms/step - loss: 0.0102 - val_loss: 0.0232\n",
            "Epoch 11/50\n",
            "10/10 [==============================] - 0s 17ms/step - loss: 0.0102 - val_loss: 0.0222\n",
            "Epoch 12/50\n",
            "10/10 [==============================] - 0s 16ms/step - loss: 0.0100 - val_loss: 0.0220\n",
            "Epoch 13/50\n",
            "10/10 [==============================] - 0s 16ms/step - loss: 0.0100 - val_loss: 0.0222\n",
            "Epoch 14/50\n",
            "10/10 [==============================] - 0s 17ms/step - loss: 0.0099 - val_loss: 0.0220\n",
            "Epoch 15/50\n",
            "10/10 [==============================] - 0s 18ms/step - loss: 0.0098 - val_loss: 0.0219\n",
            "Epoch 16/50\n",
            "10/10 [==============================] - 0s 17ms/step - loss: 0.0098 - val_loss: 0.0221\n",
            "Epoch 17/50\n",
            "10/10 [==============================] - 0s 18ms/step - loss: 0.0097 - val_loss: 0.0220\n",
            "Epoch 18/50\n",
            "10/10 [==============================] - 0s 19ms/step - loss: 0.0098 - val_loss: 0.0221\n",
            "Epoch 19/50\n",
            "10/10 [==============================] - 0s 15ms/step - loss: 0.0095 - val_loss: 0.0219\n",
            "Epoch 20/50\n",
            "10/10 [==============================] - 0s 16ms/step - loss: 0.0095 - val_loss: 0.0219\n",
            "Epoch 21/50\n",
            "10/10 [==============================] - 0s 15ms/step - loss: 0.0095 - val_loss: 0.0218\n",
            "Epoch 22/50\n",
            "10/10 [==============================] - 0s 16ms/step - loss: 0.0096 - val_loss: 0.0221\n",
            "Epoch 23/50\n",
            "10/10 [==============================] - 0s 17ms/step - loss: 0.0093 - val_loss: 0.0216\n",
            "Epoch 24/50\n",
            "10/10 [==============================] - 0s 16ms/step - loss: 0.0090 - val_loss: 0.0214\n",
            "Epoch 25/50\n",
            "10/10 [==============================] - 0s 17ms/step - loss: 0.0088 - val_loss: 0.0216\n",
            "Epoch 26/50\n",
            "10/10 [==============================] - 0s 17ms/step - loss: 0.0087 - val_loss: 0.0206\n",
            "Epoch 27/50\n",
            "10/10 [==============================] - 0s 16ms/step - loss: 0.0085 - val_loss: 0.0212\n",
            "Epoch 28/50\n",
            "10/10 [==============================] - 0s 16ms/step - loss: 0.0077 - val_loss: 0.0210\n",
            "Epoch 29/50\n",
            "10/10 [==============================] - 0s 16ms/step - loss: 0.0075 - val_loss: 0.0188\n",
            "Epoch 30/50\n",
            "10/10 [==============================] - 0s 18ms/step - loss: 0.0067 - val_loss: 0.0178\n",
            "Epoch 31/50\n",
            "10/10 [==============================] - 0s 14ms/step - loss: 0.0057 - val_loss: 0.0169\n",
            "Epoch 32/50\n",
            "10/10 [==============================] - 0s 11ms/step - loss: 0.0046 - val_loss: 0.0286\n",
            "Epoch 33/50\n",
            "10/10 [==============================] - 0s 11ms/step - loss: 0.0040 - val_loss: 0.0208\n",
            "Epoch 34/50\n",
            "10/10 [==============================] - 0s 11ms/step - loss: 0.0031 - val_loss: 0.0170\n",
            "Epoch 35/50\n",
            "10/10 [==============================] - 0s 12ms/step - loss: 0.0023 - val_loss: 0.0143\n",
            "Epoch 36/50\n",
            "10/10 [==============================] - 0s 11ms/step - loss: 0.0018 - val_loss: 0.0138\n",
            "Epoch 37/50\n",
            "10/10 [==============================] - 0s 12ms/step - loss: 0.0015 - val_loss: 0.0140\n",
            "Epoch 38/50\n",
            "10/10 [==============================] - 0s 14ms/step - loss: 0.0012 - val_loss: 0.0147\n",
            "Epoch 39/50\n",
            "10/10 [==============================] - 0s 11ms/step - loss: 0.0010 - val_loss: 0.0148\n",
            "Epoch 40/50\n",
            "10/10 [==============================] - 0s 11ms/step - loss: 9.1747e-04 - val_loss: 0.0132\n",
            "Epoch 41/50\n",
            "10/10 [==============================] - 0s 11ms/step - loss: 9.9753e-04 - val_loss: 0.0133\n",
            "Epoch 42/50\n",
            "10/10 [==============================] - 0s 12ms/step - loss: 7.5127e-04 - val_loss: 0.0142\n",
            "Epoch 43/50\n",
            "10/10 [==============================] - 0s 11ms/step - loss: 6.5102e-04 - val_loss: 0.0143\n",
            "Epoch 44/50\n",
            "10/10 [==============================] - 0s 12ms/step - loss: 6.8106e-04 - val_loss: 0.0139\n",
            "Epoch 45/50\n",
            "10/10 [==============================] - 0s 13ms/step - loss: 5.3599e-04 - val_loss: 0.0143\n",
            "Epoch 46/50\n",
            "10/10 [==============================] - 0s 12ms/step - loss: 7.2112e-04 - val_loss: 0.0160\n",
            "Epoch 47/50\n",
            "10/10 [==============================] - 0s 12ms/step - loss: 8.7963e-04 - val_loss: 0.0138\n",
            "Epoch 48/50\n",
            "10/10 [==============================] - 0s 11ms/step - loss: 6.4512e-04 - val_loss: 0.0140\n",
            "Epoch 49/50\n",
            "10/10 [==============================] - 0s 12ms/step - loss: 5.7650e-04 - val_loss: 0.0142\n",
            "Epoch 50/50\n",
            "10/10 [==============================] - 0s 13ms/step - loss: 5.3291e-04 - val_loss: 0.0141\n"
          ]
        },
        {
          "output_type": "execute_result",
          "data": {
            "text/plain": [
              "<keras.src.callbacks.History at 0x796414439780>"
            ]
          },
          "metadata": {},
          "execution_count": 5
        }
      ],
      "source": [
        "model.fit(X_train, y_train, epochs=50, batch_size=32, validation_data=(X_test, y_test))"
      ]
    },
    {
      "cell_type": "markdown",
      "metadata": {
        "id": "DQw-X4kJv2QY"
      },
      "source": [
        "# Step 6: Make predictions and evaluate the model"
      ]
    },
    {
      "cell_type": "code",
      "execution_count": 6,
      "metadata": {
        "colab": {
          "base_uri": "https://localhost:8080/",
          "height": 447
        },
        "id": "F-SoqhMWv2QZ",
        "outputId": "7d0528f9-c351-4536-b4dc-7760957320ec"
      },
      "outputs": [
        {
          "output_type": "stream",
          "name": "stdout",
          "text": [
            "3/3 [==============================] - 0s 5ms/step\n"
          ]
        },
        {
          "output_type": "display_data",
          "data": {
            "text/plain": [
              "<Figure size 640x480 with 1 Axes>"
            ],
            "image/png": "[encoded data removed]"
          },
          "metadata": {}
        }
      ],
      "source": [
        "# Make predictions\n",
        "predictions = model.predict(X_test)\n",
        "\n",
        "# Inverse transform the predictions and actual values to the original scale\n",
        "predictions_actual = scaler.inverse_transform(predictions.reshape(-1, 1))\n",
        "y_test_actual = scaler.inverse_transform(y_test.reshape(-1, 1))\n",
        "\n",
        "# Plot the results\n",
        "plt.plot(predictions_actual, label='Predictions')\n",
        "plt.plot(y_test_actual, label='Actual')\n",
        "plt.legend()\n",
        "plt.show()\n"
      ]
    },
    {
      "cell_type": "markdown",
      "metadata": {
        "id": "lVQkbDFLv2Qb"
      },
      "source": [
        "# Fine tuning and hyperparameter tuning for the model\n",
        "## Step 1 : Define a hyperparameter Search space"
      ]
    },
    {
      "cell_type": "code",
      "execution_count": 7,
      "metadata": {
        "id": "JbVsL6hVv2Qc"
      },
      "outputs": [],
      "source": [
        "# Example hyperparameter search space\n",
        "param_grid = {\n",
        "    'lstm_units': [50, 100],\n",
        "    'learning_rate': [0.001, 0.01],\n",
        "    'batch_size': [32, 64],\n",
        "    'epochs': [50, 100]\n",
        "}"
      ]
    },
    {
      "cell_type": "markdown",
      "metadata": {
        "id": "J0ogMgYDv2Qd"
      },
      "source": [
        "## Step 2: Set Up Cross-Validation"
      ]
    },
    {
      "cell_type": "code",
      "execution_count": 11,
      "metadata": {
        "colab": {
          "base_uri": "https://localhost:8080/",
          "height": 383
        },
        "id": "6uztD50ov2Qd",
        "outputId": "0f217dd2-d4e2-4d83-b9d1-2d8d9b8fab58"
      },
      "outputs": [
        {
          "output_type": "error",
          "ename": "ModuleNotFoundError",
          "evalue": "No module named 'tensorflow.keras.wrappers'",
          "traceback": [
            "\u001b[0;31m---------------------------------------------------------------------------\u001b[0m",
            "\u001b[0;31mModuleNotFoundError\u001b[0m                       Traceback (most recent call last)",
            "\u001b[0;32m<ipython-input-11-5acfe3e62eb5>\u001b[0m in \u001b[0;36m<cell line: 2>\u001b[0;34m()\u001b[0m\n\u001b[1;32m      1\u001b[0m \u001b[0;32mfrom\u001b[0m \u001b[0msklearn\u001b[0m\u001b[0;34m.\u001b[0m\u001b[0mmodel_selection\u001b[0m \u001b[0;32mimport\u001b[0m \u001b[0mGridSearchCV\u001b[0m\u001b[0;34m\u001b[0m\u001b[0;34m\u001b[0m\u001b[0m\n\u001b[0;32m----> 2\u001b[0;31m \u001b[0;32mfrom\u001b[0m \u001b[0mtensorflow\u001b[0m\u001b[0;34m.\u001b[0m\u001b[0mkeras\u001b[0m\u001b[0;34m.\u001b[0m\u001b[0mwrappers\u001b[0m\u001b[0;34m.\u001b[0m\u001b[0mscikit_learn\u001b[0m \u001b[0;32mimport\u001b[0m \u001b[0mKerasRegressor\u001b[0m\u001b[0;34m\u001b[0m\u001b[0;34m\u001b[0m\u001b[0m\n\u001b[0m\u001b[1;32m      3\u001b[0m \u001b[0;34m\u001b[0m\u001b[0m\n\u001b[1;32m      4\u001b[0m \u001b[0;31m# Use GridSearchCV with the KerasRegressor\u001b[0m\u001b[0;34m\u001b[0m\u001b[0;34m\u001b[0m\u001b[0m\n\u001b[1;32m      5\u001b[0m \u001b[0mparam_search\u001b[0m \u001b[0;34m=\u001b[0m \u001b[0mGridSearchCV\u001b[0m\u001b[0;34m(\u001b[0m\u001b[0mkeras_regressor\u001b[0m\u001b[0;34m,\u001b[0m \u001b[0mparam_grid\u001b[0m\u001b[0;34m,\u001b[0m \u001b[0mscoring\u001b[0m\u001b[0;34m=\u001b[0m\u001b[0;34m'neg_mean_squared_error'\u001b[0m\u001b[0;34m,\u001b[0m \u001b[0mcv\u001b[0m\u001b[0;34m=\u001b[0m\u001b[0;36m3\u001b[0m\u001b[0;34m)\u001b[0m\u001b[0;34m\u001b[0m\u001b[0;34m\u001b[0m\u001b[0m\n",
            "\u001b[0;31mModuleNotFoundError\u001b[0m: No module named 'tensorflow.keras.wrappers'",
            "",
            "\u001b[0;31m---------------------------------------------------------------------------\u001b[0;32m\nNOTE: If your import is failing due to a missing package, you can\nmanually install dependencies using either !pip or !apt.\n\nTo view examples of installing some common dependencies, click the\n\"Open Examples\" button below.\n\u001b[0;31m---------------------------------------------------------------------------\u001b[0m\n"
          ],
          "errorDetails": {
            "actions": [
              {
                "action": "open_url",
                "actionText": "Open Examples",
                "url": "/notebooks/snippets/importing_libraries.ipynb"
              }
            ]
          }
        }
      ],
      "source": [
        "from sklearn.model_selection import GridSearchCV\n",
        "from tensorflow.keras.wrappers.scikit_learn import KerasRegressor\n",
        "\n",
        "# Use GridSearchCV with the KerasRegressor\n",
        "param_search = GridSearchCV(keras_regressor, param_grid, scoring='neg_mean_squared_error', cv=3)\n",
        "param_search.fit(X_train, y_train)\n"
      ]
    }
  ],
  "metadata": {
    "kernelspec": {
      "display_name": "Python 3",
      "language": "python",
      "name": "python3"
    },
    "language_info": {
      "codemirror_mode": {
        "name": "ipython",
        "version": 3
      },
      "file_extension": ".py",
      "mimetype": "text/x-python",
      "name": "python",
      "nbconvert_exporter": "python",
      "pygments_lexer": "ipython3",
      "version": "3.10.8"
    },
    "colab": {
      "provenance": [],
      "include_colab_link": true
    }
  },
  "nbformat": 4,
  "nbformat_minor": 0
}